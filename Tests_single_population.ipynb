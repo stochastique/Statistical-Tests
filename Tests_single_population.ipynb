{
 "cells": [
  {
   "cell_type": "markdown",
   "metadata": {},
   "source": [
    "# Hypothesis testing for single populations"
   ]
  },
  {
   "cell_type": "code",
   "execution_count": 2,
   "metadata": {},
   "outputs": [],
   "source": [
    "import numpy as np\n",
    "import scipy.stats as stats\n",
    "import matplotlib.pyplot as plt"
   ]
  },
  {
   "cell_type": "markdown",
   "metadata": {},
   "source": [
    "## Hypothesis tests for $\\mu$ ($z$ statistic, $\\sigma$ is known)"
   ]
  },
  {
   "cell_type": "markdown",
   "metadata": {},
   "source": [
    "Let $X_1,...,X_n \\sim N(\\mu,\\sigma)$ where $\\sigma$ is known.\n",
    "\n",
    "We want to test $H_0: \\mu\\leq0$ versus $H_1: \\mu>0.$\n",
    "\n",
    "Hence, $\\Theta_0 = (−\\infty,0]$ and $\\Theta_1 = (0,\\infty).$\n",
    "\n",
    "Consider the test:\n",
    "\n",
    "reject $H_0$ if $T > c$ where $T(X) = \\bar X$.\n",
    "\n",
    "Let $Z$ denote a standard Normal random variable. The power function is\n",
    "\n",
    "$$\\beta(\\mu) = P_{\\mu}(\\bar X > c) \n",
    "  = P_{\\mu}\\Big(\\frac{\\sqrt{n}(\\bar X − \\mu)}{\\sigma} > \\frac{\\sqrt{n}(c − \\mu)}{\\sigma}\\Big) \n",
    "  = P\\Big(Z > \\frac{\\sqrt{n}(c − \\mu)}{\\sigma}\\Big) \n",
    "  =1−\\Phi\\Big(\\frac{\\sqrt{n}(c − \\mu)}{\\sigma}\\Big).$$\n",
    "  \n",
    "This function is increasing in $\\mu$. Hence\n",
    "$$ \\text{size} = \\sup_{\\mu\\leq0} \\beta(\\mu) = \\beta(0) = 1−\\Phi\\Big(\\frac{\\sqrt{n}c}{\\sigma}\\Big).$$\n",
    "\n",
    "For a size $\\alpha$ test, we set this equal to $\\alpha$ and solve for $c$ to get\n",
    "$$ c = \\frac{\\sigma \\Phi^{-1} (1- \\alpha)}{\\sqrt{n}}.$$\n",
    "\n",
    "We reject when $\\bar X > \\sigma \\Phi^{-1} (1- \\alpha)/\\sqrt{n}.$ Equivalently, we reject when\n",
    "$$\\frac{\\sqrt{n}(\\bar X - 0)}{\\sigma} > z_{\\alpha},$$\n",
    "where $z_{\\alpha} = \\Phi^{-1} (1- \\alpha).$"
   ]
  },
  {
   "cell_type": "code",
   "execution_count": 276,
   "metadata": {},
   "outputs": [
    {
     "name": "stdout",
     "output_type": "stream",
     "text": [
      "fail to reject H_0, 0.66 <= 1.64, mean is 0.21\n",
      "fail to reject H_0, 1.40 <= 1.64, mean is 0.14\n",
      "reject H_0, 4.19 > 1.64, mean is 0.13\n",
      "H_0 is false, loc is 0.14\n"
     ]
    },
    {
     "data": {
      "image/png": "[encoded data removed]",
      "text/plain": [
       "<Figure size 432x288 with 1 Axes>"
      ]
     },
     "metadata": {
      "needs_background": "light"
     },
     "output_type": "display_data"
    }
   ],
   "source": [
    "loc = stats.uniform.rvs()-0.5\n",
    "scale=1.0\n",
    "alpha = 0.05\n",
    "\n",
    "#np.random.seed(123)\n",
    "x_10 = stats.norm.rvs(loc, scale, 10)\n",
    "x_100 = stats.norm.rvs(loc, scale, 100)\n",
    "x_1000 = stats.norm.rvs(loc, scale, 1000)\n",
    "\n",
    "l_sp = np.linspace(stats.norm.ppf(0.01),stats.norm.ppf(0.99), 100)\n",
    "\n",
    "def power(alpha,n):\n",
    "    c = scale*stats.norm.ppf(1-alpha)/np.sqrt(n)\n",
    "    return 1 - stats.norm.cdf(np.sqrt(n)*(c-l_sp)/scale)\n",
    "\n",
    "fig, ax = plt.subplots(1, 1)\n",
    "\n",
    "ax.plot(l_sp, power(alpha,len(x_10)),'r-', lw=1, alpha=0.6, label='power function')\n",
    "ax.plot(l_sp, power(alpha,len(x_100)),'b-', lw=1, alpha=0.6, label='power function')\n",
    "ax.plot(l_sp, power(alpha,len(x_1000)),'g-', lw=1, alpha=0.6, label='power function')\n",
    "\n",
    "def test(alpha,t,n):\n",
    "    z = t*np.sqrt(n)/scale\n",
    "    z_a = stats.norm.ppf(1-alpha)\n",
    "    if z > z_a:\n",
    "        print(\"reject H_0, {0:3.2f} > {1:3.2f}, mean is {2:3.2f}\".format(z,z_a,t))\n",
    "    else:\n",
    "        print(\"fail to reject H_0, {0:3.2f} <= {1:3.2f}, mean is {2:3.2f}\".format(z,z_a,t))\n",
    "        \n",
    "test(alpha,np.mean(x_10),len(x_10))\n",
    "test(alpha,np.mean(x_100),len(x_100))\n",
    "test(alpha,np.mean(x_1000),len(x_1000))\n",
    "\n",
    "\n",
    "if loc <= 0:\n",
    "    print(\"H_0 is true, loc is {0:3.2f}\".format(loc))\n",
    "else:\n",
    "    print(\"H_0 is false, loc is {0:3.2f}\".format(loc))\n"
   ]
  }
 ],
 "metadata": {
  "kernelspec": {
   "display_name": "Python 3",
   "language": "python",
   "name": "python3"
  },
  "language_info": {
   "codemirror_mode": {
    "name": "ipython",
    "version": 3
   },
   "file_extension": ".py",
   "mimetype": "text/x-python",
   "name": "python",
   "nbconvert_exporter": "python",
   "pygments_lexer": "ipython3",
   "version": "3.6.6"
  }
 },
 "nbformat": 4,
 "nbformat_minor": 2
}
