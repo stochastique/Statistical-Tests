{
 "cells": [
  {
   "cell_type": "code",
   "execution_count": 101,
   "metadata": {},
   "outputs": [
    {
     "data": {
      "text/plain": [
       "\n",
       "\tOne-sample z-Test\n",
       "\n",
       "data:  x_10\n",
       "z = 0.5283, p-value = 0.2986\n",
       "alternative hypothesis: true mean is greater than 0\n",
       "95 percent confidence interval:\n",
       " -0.3530865         NA\n",
       "sample estimates:\n",
       "mean of x \n",
       "0.1670619 \n"
      ]
     },
     "metadata": {},
     "output_type": "display_data"
    },
    {
     "data": {
      "text/plain": [
       "\n",
       "\tOne-sample z-Test\n",
       "\n",
       "data:  x_100\n",
       "z = 1.0488, p-value = 0.1471\n",
       "alternative hypothesis: true mean is greater than 0\n",
       "95 percent confidence interval:\n",
       " -0.05960125          NA\n",
       "sample estimates:\n",
       "mean of x \n",
       "0.1048841 \n"
      ]
     },
     "metadata": {},
     "output_type": "display_data"
    },
    {
     "data": {
      "text/plain": [
       "\n",
       "\tOne-sample z-Test\n",
       "\n",
       "data:  x_1000\n",
       "z = 9.6196, p-value < 2.2e-16\n",
       "alternative hypothesis: true mean is greater than 0\n",
       "95 percent confidence interval:\n",
       " 0.2521829        NA\n",
       "sample estimates:\n",
       "mean of x \n",
       "0.3041978 \n"
      ]
     },
     "metadata": {},
     "output_type": "display_data"
    }
   ],
   "source": [
    "#install.packages('BSDA', repos='http://cran.us.r-project.org')\n",
    "library(BSDA)\n",
    "mu=0.3\n",
    "#set.seed(1)\n",
    "x_10 <- rnorm(10,mu,1.0)\n",
    "x_100 <- rnorm(100,mu,1.0)\n",
    "x_1000 <- rnorm(1000,mu,1.0)\n",
    "z.test(x_10,sigma.x=1.0,alternative=\"greater\")\n",
    "z.test(x_100,sigma.x=1.0,alternative=\"greater\")\n",
    "z.test(x_1000,sigma.x=1.0,alternative=\"greater\")"
   ]
  },
  {
   "cell_type": "code",
   "execution_count": 34,
   "metadata": {},
   "outputs": [
    {
     "data": {
      "text/html": [
       "<ol class=list-inline>\n",
       "\t<li>10.2323023848962</li>\n",
       "\t<li>10.2562388264204</li>\n",
       "</ol>\n"
      ],
      "text/latex": [
       "\\begin{enumerate*}\n",
       "\\item 10.2323023848962\n",
       "\\item 10.2562388264204\n",
       "\\end{enumerate*}\n"
      ],
      "text/markdown": [
       "1. 10.2323023848962\n",
       "2. 10.2562388264204\n",
       "\n",
       "\n"
      ],
      "text/plain": [
       "[1] 10.23230 10.25624"
      ]
     },
     "metadata": {},
     "output_type": "display_data"
    }
   ],
   "source": [
    "rnorm(c(0,1),10)"
   ]
  }
 ],
 "metadata": {
  "kernelspec": {
   "display_name": "R",
   "language": "R",
   "name": "ir"
  },
  "language_info": {
   "codemirror_mode": "r",
   "file_extension": ".r",
   "mimetype": "text/x-r-source",
   "name": "R",
   "pygments_lexer": "r",
   "version": "3.5.1"
  }
 },
 "nbformat": 4,
 "nbformat_minor": 2
}
